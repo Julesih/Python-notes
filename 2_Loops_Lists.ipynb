{
 "cells": [
  {
   "cell_type": "code",
   "execution_count": 33,
   "metadata": {},
   "outputs": [],
   "source": [
    "# A Primer on Scientific Programming with Python, Hans Petter Langtangen\n",
    "# https://hplgit.github.io/primer.html/doc/pub/half/book.pdf\n",
    "\n",
    "# CHAPTER 2: Loops and Lists\n",
    "\n",
    "from numpy import *\n",
    "import matplotlib.pyplot as plt\n",
    "from matplotlib import colors\n",
    "from pylab import *\n",
    "import math"
   ]
  },
  {
   "cell_type": "code",
   "execution_count": 34,
   "metadata": {},
   "outputs": [
    {
     "name": "stdout",
     "output_type": "stream",
     "text": [
      "------------------\n",
      "  -20  -4.0\n",
      "  -15   5.0\n",
      "  -10  14.0\n",
      "   -5  23.0\n",
      "    0  32.0\n",
      "    5  41.0\n",
      "   10  50.0\n",
      "   15  59.0\n",
      "   20  68.0\n",
      "   25  77.0\n",
      "   30  86.0\n",
      "   35  95.0\n",
      "   40 104.0\n",
      "------------------\n"
     ]
    }
   ],
   "source": [
    "print('------------------')  # table heading\n",
    "C = -20 # start value for C\n",
    "dC = 5 # increment of C in loop\n",
    "Fdegrees=[]\n",
    "Cdegrees=[]\n",
    "while C <= 40: # loop heading with condition\n",
    "    F = (9.0/5)*C + 32 # \n",
    "    Fdegrees.append(F)\n",
    "    Cdegrees.append(C)\n",
    "    print('%5d %5.1f' % (C, F))\n",
    "    C += dC # C=C+dc\n",
    "print(\"------------------\")"
   ]
  },
  {
   "cell_type": "code",
   "execution_count": 35,
   "metadata": {},
   "outputs": [
    {
     "name": "stdout",
     "output_type": "stream",
     "text": [
      "  -20  -4.0\n",
      "  -15   5.0\n",
      "  -10  14.0\n",
      "   -5  23.0\n",
      "    0  32.0\n",
      "    5  41.0\n",
      "   10  50.0\n",
      "   15  59.0\n",
      "   20  68.0\n",
      "   25  77.0\n",
      "   30  86.0\n",
      "   35  95.0\n",
      "   40 104.0\n"
     ]
    }
   ],
   "source": [
    "for c, f in zip(Cdegrees, Fdegrees):\n",
    "    print('%5d %5.1f' % (c, f))\n",
    "    \n",
    "#It is considered more Pythonic to iterate over list elements, here C and F,\n",
    "#rather than over list indices as in the for i in range(len(Cdegrees))\n",
    "#construction."
   ]
  },
  {
   "cell_type": "code",
   "execution_count": 36,
   "metadata": {},
   "outputs": [
    {
     "data": {
      "text/plain": [
       "[[-20, -4.0],\n",
       " [-15, 5.0],\n",
       " [-10, 14.0],\n",
       " [-5, 23.0],\n",
       " [0, 32.0],\n",
       " [5, 41.0],\n",
       " [10, 50.0],\n",
       " [15, 59.0],\n",
       " [20, 68.0],\n",
       " [25, 77.0],\n",
       " [30, 86.0],\n",
       " [35, 95.0],\n",
       " [40, 104.0]]"
      ]
     },
     "execution_count": 36,
     "metadata": {},
     "output_type": "execute_result"
    }
   ],
   "source": [
    "table = [[C, F] for C, F in zip(Cdegrees, Fdegrees)]\n",
    "table"
   ]
  },
  {
   "cell_type": "code",
   "execution_count": 37,
   "metadata": {},
   "outputs": [
    {
     "name": "stdout",
     "output_type": "stream",
     "text": [
      "[0, 1, 1, 2, 3, 5, 8, 13, 21, 34, 55]\n",
      "11\n",
      "8\n"
     ]
    },
    {
     "data": {
      "text/plain": [
       "False"
      ]
     },
     "execution_count": 37,
     "metadata": {},
     "output_type": "execute_result"
    }
   ],
   "source": [
    "Fib=[0, 1, 1, 2, 5, 8, 13]\n",
    "Fib.append(21)\n",
    "Fib.insert(4, 3)\n",
    "Fib += [34, 55]\n",
    "print(Fib)\n",
    "print(len(Fib))\n",
    "print(Fib.index(21))\n",
    "10 in Fib"
   ]
  },
  {
   "cell_type": "code",
   "execution_count": 38,
   "metadata": {},
   "outputs": [
    {
     "data": {
      "text/plain": [
       "[1, 2, 2, 3, 4, 6, 9, 14, 22, 35, 56]"
      ]
     },
     "execution_count": 38,
     "metadata": {},
     "output_type": "execute_result"
    }
   ],
   "source": [
    "Fib_plus_one=[fib+1 for fib in Fib]\n",
    "Fib_plus_one"
   ]
  },
  {
   "cell_type": "code",
   "execution_count": 39,
   "metadata": {},
   "outputs": [
    {
     "name": "stdout",
     "output_type": "stream",
     "text": [
      "0\n",
      "2\n",
      "4\n",
      "6\n",
      "8\n"
     ]
    }
   ],
   "source": [
    "for i in range(0, 10, 2):\n",
    "    print(i)"
   ]
  },
  {
   "cell_type": "code",
   "execution_count": 40,
   "metadata": {},
   "outputs": [
    {
     "name": "stdout",
     "output_type": "stream",
     "text": [
      "[2, 4, 6, 8, 9] [2, 4, 6]\n",
      "[2, 4, 6, 8, 9] [2, 4, 6, 8, 9]\n"
     ]
    },
    {
     "data": {
      "text/plain": [
       "False"
      ]
     },
     "execution_count": 40,
     "metadata": {},
     "output_type": "execute_result"
    }
   ],
   "source": [
    "A=[2, 4, 6, 8, 9]\n",
    "B=A[:]\n",
    "del B[3:]\n",
    "print(A, B)\n",
    "\n",
    "B.append(8)\n",
    "B.append(9)\n",
    "print(A, B)\n",
    "A is B"
   ]
  },
  {
   "cell_type": "code",
   "execution_count": 62,
   "metadata": {},
   "outputs": [
    {
     "name": "stdout",
     "output_type": "stream",
     "text": [
      "Sun\n",
      "\n",
      "Mercury\n",
      "\n"
     ]
    },
    {
     "data": {
      "text/plain": [
       "<function TextIOWrapper.close>"
      ]
     },
     "execution_count": 62,
     "metadata": {},
     "output_type": "execute_result"
    }
   ],
   "source": [
    "p = open(\"planets.txt\", \"r\")\n",
    "#print(p.read()) #prints all lines\n",
    "print(p.readline())\n",
    "print(p.readline())\n",
    "p.close"
   ]
  },
  {
   "cell_type": "code",
   "execution_count": 68,
   "metadata": {},
   "outputs": [
    {
     "data": {
      "text/plain": [
       "[1, 11, 15]"
      ]
     },
     "execution_count": 68,
     "metadata": {},
     "output_type": "execute_result"
    }
   ],
   "source": [
    "#tuples\n",
    "a=(2, 4, 6)\n",
    "b=-1, 7, 9 #tuples do not need parentheses\n",
    "sum=[]\n",
    "for i, j in zip(a, b):\n",
    "    sum.append(i+j)\n",
    "sum"
   ]
  },
  {
   "cell_type": "code",
   "execution_count": 69,
   "metadata": {},
   "outputs": [
    {
     "name": "stdout",
     "output_type": "stream",
     "text": [
      "final eps: 1.1102230246251565e-16\n"
     ]
    }
   ],
   "source": [
    "eps = 1.0\n",
    "while 1.0 != 1.0 + eps:\n",
    "    eps = eps/2.0\n",
    "print('final eps:', eps)"
   ]
  },
  {
   "cell_type": "code",
   "execution_count": null,
   "metadata": {},
   "outputs": [],
   "source": []
  },
  {
   "cell_type": "code",
   "execution_count": null,
   "metadata": {},
   "outputs": [],
   "source": []
  },
  {
   "cell_type": "code",
   "execution_count": null,
   "metadata": {},
   "outputs": [],
   "source": []
  },
  {
   "cell_type": "code",
   "execution_count": null,
   "metadata": {},
   "outputs": [],
   "source": []
  }
 ],
 "metadata": {
  "kernelspec": {
   "display_name": "Python 3",
   "language": "python",
   "name": "python3"
  },
  "language_info": {
   "codemirror_mode": {
    "name": "ipython",
    "version": 3
   },
   "file_extension": ".py",
   "mimetype": "text/x-python",
   "name": "python",
   "nbconvert_exporter": "python",
   "pygments_lexer": "ipython3",
   "version": "3.7.8"
  }
 },
 "nbformat": 4,
 "nbformat_minor": 4
}
