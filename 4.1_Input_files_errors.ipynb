{
 "cells": [
  {
   "cell_type": "code",
   "execution_count": 1,
   "metadata": {},
   "outputs": [],
   "source": [
    "# A Primer on Scientific Programming with Python, Hans Petter Langtangen\n",
    "# https://hplgit.github.io/primer.html/doc/pub/half/book.pdf\n",
    "\n",
    "# CHAPTER 4: User Input, Error Handling, Reading/Writing to a file\n",
    "\n",
    "from numpy import *\n",
    "import matplotlib.pyplot as plt\n",
    "from pylab import *\n",
    "import math"
   ]
  },
  {
   "cell_type": "code",
   "execution_count": 2,
   "metadata": {},
   "outputs": [
    {
     "data": {
      "text/plain": [
       "(2, [3, 5, 4], 2.0, 'abc')"
      ]
     },
     "execution_count": 2,
     "metadata": {},
     "output_type": "execute_result"
    }
   ],
   "source": [
    "r=eval('1+1, [3, 5, 4], sqrt(round(3.9)), \"abc\" ') #string turned into code using eval()\n",
    "r"
   ]
  },
  {
   "cell_type": "code",
   "execution_count": 3,
   "metadata": {},
   "outputs": [
    {
     "name": "stdin",
     "output_type": "stream",
     "text": [
      "Give input:  1\n",
      "Give input:  2.5\n"
     ]
    },
    {
     "name": "stdout",
     "output_type": "stream",
     "text": [
      "<class 'int'> + <class 'float'> becomes <class 'float'> with value 3.5\n"
     ]
    }
   ],
   "source": [
    "i1 = eval(input('Give input: '))\n",
    "i2 = eval(input('Give input: '))\n",
    "s = i1 + i2\n",
    "print('%s + %s becomes %s with value %s' %(type(i1), type(i2), type(s), s))"
   ]
  },
  {
   "cell_type": "code",
   "execution_count": 3,
   "metadata": {},
   "outputs": [
    {
     "name": "stdout",
     "output_type": "stream",
     "text": [
      "[('Sun', 0.0, 'Yellow'), ('Mercury', 0.4, 'Red'), ('Venus', 0.7, 'Cream'), ('Earth', 1.0, 'Blue'), ('Mars', 1.5, 'Red'), ('Jupiter', 5.2, 'Orange'), ('Saturn', 9.6, 'Gold'), ('Uranus', 19.2, 'Cyan'), ('Neptune', 30.0, 'Blue')]\n"
     ]
    }
   ],
   "source": [
    "#Reading data from a file, page [197]\n",
    "\n",
    "infile=open('planets.txt', 'r') # Argument 'r' reads the file.\n",
    "                                # Replace 'r' with 'w' to write to the file.\n",
    "infile.readline() # skip the first line\n",
    "data = [line.split() for line in infile]\n",
    "data = [(p, float(r), c) for p, r, c in data[:]] #planet, distance as a float, and color\n",
    "infile.close()\n",
    "print(data)"
   ]
  },
  {
   "cell_type": "code",
   "execution_count": 4,
   "metadata": {},
   "outputs": [
    {
     "data": {
      "text/plain": [
       "[0.0, 0.4, 0.7, 1.0, 1.5, 5.2, 9.6, 19.2, 30.0]"
      ]
     },
     "execution_count": 4,
     "metadata": {},
     "output_type": "execute_result"
    }
   ],
   "source": [
    "dists = [float(d) for d in transpose(data)[1]]\n",
    "dists"
   ]
  },
  {
   "cell_type": "code",
   "execution_count": 20,
   "metadata": {},
   "outputs": [],
   "source": [
    "#Writing data to a file, page [199]\n",
    "\n",
    "data = [[ 0.75, 0.29619813, -0.29619813, -0.75 ],\n",
    "[ 0.29619813, 0.11697778, -0.11697778, -0.29619813],\n",
    "[-0.29619813, -0.11697778, 0.11697778, 0.29619813],\n",
    "[-0.75, -0.29619813, 0.29619813, 0.75 ]]\n",
    "\n",
    "# write to new file, or overwrite file:\n",
    "outfile = open('writefile1.txt', 'w') #we created a new file here, writefile1.txt\n",
    "\n",
    "ncolumns = len(data[0])\n",
    "outfile.write('      ')\n",
    "for i in range(1, ncolumns+1):\n",
    "    outfile.write('%14s ' % ('column %2d' % i)) #14 controls spacing\n",
    "outfile.write('\\n') #manually enter new lines\n",
    "\n",
    "row_counter = 1\n",
    "for row in data:\n",
    "    outfile.write('row %2d' % row_counter)\n",
    "    for column in row:\n",
    "        outfile.write(' %14.8f' % column)\n",
    "    outfile.write('\\n') \n",
    "    row_counter += 1\n",
    "    \n",
    "outfile.close()\n",
    "\n"
   ]
  },
  {
   "cell_type": "code",
   "execution_count": 23,
   "metadata": {},
   "outputs": [],
   "source": [
    "# append to the end of an existing file:\n",
    "outfile = open('writefile.txt', 'a') #preexisting file\n",
    "for row in data:\n",
    "    for column in row:\n",
    "        outfile.write('%14.8f' % column)\n",
    "    outfile.write('\\n')\n",
    "outfile.close()"
   ]
  },
  {
   "cell_type": "code",
   "execution_count": 1,
   "metadata": {},
   "outputs": [
    {
     "name": "stdin",
     "output_type": "stream",
     "text": [
      "What year were you born? 1998\n"
     ]
    },
    {
     "name": "stdout",
     "output_type": "stream",
     "text": [
      "Error: current year is not defined\n"
     ]
    }
   ],
   "source": [
    "#Handling errors\n",
    "age=input('What year were you born?')\n",
    "c=2020\n",
    "try:\n",
    "    d=c-int(age)\n",
    "    print('You were born %d years ago!'%d)\n",
    "except ValueError:\n",
    "    print('Error, you must enter an integer') #throws if age is not an int\n",
    "except NameError:\n",
    "    print('Error: current year is not defined') #throws if the 'c=2020' line is missing\n",
    "\n",
    "#Other error types:\n",
    "#Index error - no command line arguments provided\n",
    "#ZeroDivisionError - dividing by 0\n",
    "#SyntaxError - Illegal python keyword or grammatical error\n",
    "#TypeError - Improper types, eg. trying to multiply a float by a string\n",
    "#\n"
   ]
  },
  {
   "cell_type": "code",
   "execution_count": 4,
   "metadata": {},
   "outputs": [
    {
     "data": {
      "text/plain": [
       "'222'"
      ]
     },
     "execution_count": 4,
     "metadata": {},
     "output_type": "execute_result"
    }
   ],
   "source": []
  },
  {
   "cell_type": "code",
   "execution_count": null,
   "metadata": {},
   "outputs": [],
   "source": []
  },
  {
   "cell_type": "code",
   "execution_count": null,
   "metadata": {},
   "outputs": [],
   "source": []
  },
  {
   "cell_type": "code",
   "execution_count": null,
   "metadata": {},
   "outputs": [],
   "source": []
  }
 ],
 "metadata": {
  "kernelspec": {
   "display_name": "Python 3",
   "language": "python",
   "name": "python3"
  },
  "language_info": {
   "codemirror_mode": {
    "name": "ipython",
    "version": 3
   },
   "file_extension": ".py",
   "mimetype": "text/x-python",
   "name": "python",
   "nbconvert_exporter": "python",
   "pygments_lexer": "ipython3",
   "version": "3.7.8"
  }
 },
 "nbformat": 4,
 "nbformat_minor": 4
}
